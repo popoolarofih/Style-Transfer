{
 "cells": [
  {
   "cell_type": "code",
   "execution_count": null,
   "id": "6135c930",
   "metadata": {},
   "outputs": [
    {
     "name": "stdout",
     "output_type": "stream",
     "text": [
      "WARNING:tensorflow:From C:\\Users\\user\\anaconda4\\Lib\\site-packages\\keras\\src\\losses.py:2976: The name tf.losses.sparse_softmax_cross_entropy is deprecated. Please use tf.compat.v1.losses.sparse_softmax_cross_entropy instead.\n",
      "\n",
      "WARNING:tensorflow:From C:\\Users\\user\\anaconda4\\Lib\\site-packages\\tensorflow_hub\\resolver.py:120: The name tf.gfile.MakeDirs is deprecated. Please use tf.io.gfile.makedirs instead.\n",
      "\n"
     ]
    },
    {
     "name": "stderr",
     "output_type": "stream",
     "text": [
      "WARNING:tensorflow:From C:\\Users\\user\\anaconda4\\Lib\\site-packages\\tensorflow_hub\\resolver.py:120: The name tf.gfile.MakeDirs is deprecated. Please use tf.io.gfile.makedirs instead.\n",
      "\n"
     ]
    },
    {
     "name": "stdout",
     "output_type": "stream",
     "text": [
      "WARNING:tensorflow:From C:\\Users\\user\\anaconda4\\Lib\\site-packages\\tensorflow_hub\\module_v2.py:126: The name tf.saved_model.load_v2 is deprecated. Please use tf.compat.v2.saved_model.load instead.\n",
      "\n"
     ]
    },
    {
     "name": "stderr",
     "output_type": "stream",
     "text": [
      "WARNING:tensorflow:From C:\\Users\\user\\anaconda4\\Lib\\site-packages\\tensorflow_hub\\module_v2.py:126: The name tf.saved_model.load_v2 is deprecated. Please use tf.compat.v2.saved_model.load instead.\n",
      "\n"
     ]
    },
    {
     "name": "stdout",
     "output_type": "stream",
     "text": [
      " * Serving Flask app '__main__'\n",
      " * Debug mode: on\n"
     ]
    },
    {
     "name": "stderr",
     "output_type": "stream",
     "text": [
      "INFO:werkzeug:\u001b[31m\u001b[1mWARNING: This is a development server. Do not use it in a production deployment. Use a production WSGI server instead.\u001b[0m\n",
      " * Running on http://127.0.0.1:5000\n",
      "INFO:werkzeug:\u001b[33mPress CTRL+C to quit\u001b[0m\n",
      "INFO:werkzeug:127.0.0.1 - - [12/May/2024 12:48:27] \"GET / HTTP/1.1\" 200 -\n"
     ]
    }
   ],
   "source": [
    "from flask import Flask, render_template, request, redirect, url_for\n",
    "import io\n",
    "import sys\n",
    "import warnings\n",
    "from functools import lru_cache\n",
    "import matplotlib.pyplot as plt\n",
    "import numpy as np\n",
    "import tensorflow as tf\n",
    "import tensorflow_hub as hub\n",
    "from PIL import Image\n",
    "\n",
    "# Function to validate and upload images\n",
    "def upload_image(file_obj):\n",
    "    if not file_obj:\n",
    "        return None\n",
    "    \n",
    "    try:\n",
    "        image = Image.open(file_obj)\n",
    "        # Ensure the file is an image by attempting to open it with PIL\n",
    "        return image\n",
    "    except (IOError, OSError):\n",
    "        return None\n",
    "\n",
    "# Function - Centred square crop\n",
    "def crop(image):\n",
    "    _ = image.shape\n",
    "    height, width = _[0], _[1]\n",
    "    _ = min(height, width)\n",
    "    target_height, target_width = _, _\n",
    "\n",
    "    offset_height = max(height-width, 0) // 2\n",
    "    offset_width = max(width-height, 0) // 2\n",
    "    image_crop = tf.image.crop_to_bounding_box(\n",
    "      image, offset_height, offset_width, target_height, target_width)\n",
    "    return image_crop\n",
    "\n",
    "# Function - Load image\n",
    "@lru_cache(maxsize=None)\n",
    "def load_image(content):\n",
    "    # Decode the processed image\n",
    "    image = tf.image.decode_image(content, channels=3, dtype=tf.float32)\n",
    "    # Centred square crop\n",
    "    image = crop(image)\n",
    "    # Resize\n",
    "    image = tf.image.resize(image, (256, 256))\n",
    "    return image\n",
    "\n",
    "# Function - Plot images\n",
    "def image_plot(images, title, grid):\n",
    "    n = len(images)\n",
    "    plt.figure()\n",
    "    for i in range(n):\n",
    "        plt.subplot(grid[0], grid[1], i+1)\n",
    "        plt.imshow(images[i])\n",
    "        plt.axis('off')\n",
    "    plt.suptitle(title)\n",
    "    plt.show()\n",
    "\n",
    "model_url = \"https://tfhub.dev/google/magenta/arbitrary-image-stylization-v1-256/2\"\n",
    "style_transfer_model = hub.load(model_url)\n",
    "\n",
    "# Flask app setup\n",
    "app = Flask(__name__)\n",
    "\n",
    "@app.route(\"/\", methods=[\"GET\", \"POST\"])\n",
    "def upload_and_style():\n",
    "    if request.method == \"GET\":\n",
    "        return render_template(\"index.html\")  # Render upload form\n",
    "    else:\n",
    "        content_file = request.files.get(\"content_image\")\n",
    "        style_files = request.files.getlist(\"style_image\")  # Handle multiple style uploads\n",
    "\n",
    "        # Validate and process images\n",
    "        content = upload_image(content_file)\n",
    "        if not content:\n",
    "            return \"Invalid content image!\", 400\n",
    "\n",
    "        style_images = []\n",
    "        for style_file in style_files:\n",
    "            style_image = upload_image(style_file)\n",
    "            if not style_image:\n",
    "                return \"Invalid style image!\", 400\n",
    "            style_images.append(style_image)\n",
    "\n",
    "        # Convert content and style images to float32 tensors\n",
    "        content = tf.cast(content, tf.float32)\n",
    "        style_images = [tf.cast(style_image, tf.float32) for style_image in style_images]\n",
    "\n",
    "        # Style transfer logic here\n",
    "        style = tf.concat(style_images, axis=0)\n",
    "        cast = style_transfer_model(content, style)[0]\n",
    "\n",
    "        # Save styled image (modified for Flask)\n",
    "        filename = \"static/styled_image.jpg\"\n",
    "        tf.keras.utils.save_img(filename, tf.squeeze(cast))\n",
    "\n",
    "        return redirect(url_for(\"show_result\"))\n",
    "\n",
    "@app.route(\"/result\")\n",
    "def show_result():\n",
    "    return render_template(\"result.html\", generated_image=\"styled_image.jpg\")\n",
    "\n",
    "if __name__ == \"__main__\":\n",
    "    app.run(debug=True, use_reloader=False)\n"
   ]
  },
  {
   "cell_type": "code",
   "execution_count": null,
   "id": "52766144",
   "metadata": {},
   "outputs": [],
   "source": []
  }
 ],
 "metadata": {
  "kernelspec": {
   "display_name": "Python 3 (ipykernel)",
   "language": "python",
   "name": "python3"
  },
  "language_info": {
   "codemirror_mode": {
    "name": "ipython",
    "version": 3
   },
   "file_extension": ".py",
   "mimetype": "text/x-python",
   "name": "python",
   "nbconvert_exporter": "python",
   "pygments_lexer": "ipython3",
   "version": "3.11.5"
  }
 },
 "nbformat": 4,
 "nbformat_minor": 5
}
