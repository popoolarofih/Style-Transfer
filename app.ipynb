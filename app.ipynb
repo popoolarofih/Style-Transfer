{
 "cells": [
  {
   "cell_type": "code",
   "execution_count": null,
   "id": "52766144",
   "metadata": {},
   "outputs": [],
   "source": []
  },
  {
   "cell_type": "code",
   "execution_count": null,
   "id": "6135c930",
   "metadata": {},
   "outputs": [
    {
     "name": "stdout",
     "output_type": "stream",
     "text": [
      "Model loaded from archive\n",
      " * Serving Flask app '__main__'\n",
      " * Debug mode: on\n"
     ]
    },
    {
     "name": "stderr",
     "output_type": "stream",
     "text": [
      "INFO:werkzeug:\u001b[31m\u001b[1mWARNING: This is a development server. Do not use it in a production deployment. Use a production WSGI server instead.\u001b[0m\n",
      " * Running on http://127.0.0.1:5000\n",
      "INFO:werkzeug:\u001b[33mPress CTRL+C to quit\u001b[0m\n",
      "INFO:werkzeug:127.0.0.1 - - [18/May/2024 14:27:11] \"GET / HTTP/1.1\" 200 -\n"
     ]
    },
    {
     "name": "stdout",
     "output_type": "stream",
     "text": [
      "Content image saved to uploads\\IMG_20231208_191735.jpg\n",
      "Content image loaded and processed\n",
      "Style image saved to uploads\\IMG_20231213_065656.jpg\n",
      "Style image loaded and processed\n"
     ]
    },
    {
     "name": "stderr",
     "output_type": "stream",
     "text": [
      "INFO:werkzeug:127.0.0.1 - - [18/May/2024 14:27:35] \"POST /apply-style HTTP/1.1\" 200 -\n"
     ]
    },
    {
     "name": "stdout",
     "output_type": "stream",
     "text": [
      "Style transfer applied\n",
      "Stylized image saved to static/results\\stylized_IMG_20231213_065656.jpg\n"
     ]
    },
    {
     "name": "stderr",
     "output_type": "stream",
     "text": [
      "INFO:werkzeug:127.0.0.1 - - [18/May/2024 14:27:38] \"GET /result?image=%2Fstatic%2Fresults%2Fstylized_IMG_20231213_065656.jpg HTTP/1.1\" 200 -\n",
      "INFO:werkzeug:127.0.0.1 - - [18/May/2024 14:27:38] \"GET /static/results/stylized_IMG_20231213_065656.jpg HTTP/1.1\" 200 -\n",
      "INFO:werkzeug:127.0.0.1 - - [18/May/2024 14:28:29] \"GET / HTTP/1.1\" 200 -\n"
     ]
    },
    {
     "name": "stdout",
     "output_type": "stream",
     "text": [
      "Content image saved to uploads\\gown1.jpg\n",
      "Content image loaded and processed\n",
      "Style image saved to uploads\\African wax Print Fabric per yard for African Print dress skirt head tie African Clothing, Ankara fa.jfif\n",
      "Style image loaded and processed\n"
     ]
    },
    {
     "name": "stderr",
     "output_type": "stream",
     "text": [
      "INFO:werkzeug:127.0.0.1 - - [18/May/2024 14:29:39] \"POST /apply-style HTTP/1.1\" 200 -\n"
     ]
    },
    {
     "name": "stdout",
     "output_type": "stream",
     "text": [
      "Style transfer applied\n",
      "Stylized image saved to static/results\\stylized_African wax Print Fabric per yard for African Print dress skirt head tie African Clothing, Ankara fa.jfif\n"
     ]
    },
    {
     "name": "stderr",
     "output_type": "stream",
     "text": [
      "INFO:werkzeug:127.0.0.1 - - [18/May/2024 14:29:42] \"GET /result?image=%2Fstatic%2Fresults%2Fstylized_African%2520wax%2520Print%2520Fabric%2520per%2520yard%2520for%2520African%2520Print%2520dress%2520skirt%2520head%2520tie%2520African%2520Clothing,%2520Ankara%2520fa.jfif HTTP/1.1\" 200 -\n",
      "INFO:werkzeug:127.0.0.1 - - [18/May/2024 14:29:42] \"GET /static/results/stylized_African%20wax%20Print%20Fabric%20per%20yard%20for%20African%20Print%20dress%20skirt%20head%20tie%20African%20Clothing,%20Ankara%20fa.jfif HTTP/1.1\" 200 -\n",
      "INFO:werkzeug:127.0.0.1 - - [18/May/2024 14:29:46] \"GET / HTTP/1.1\" 200 -\n",
      "INFO:werkzeug:127.0.0.1 - - [18/May/2024 14:30:30] \"POST /apply-style HTTP/1.1\" 200 -\n"
     ]
    },
    {
     "name": "stdout",
     "output_type": "stream",
     "text": [
      "Content image saved to uploads\\BANGELY Boho Beach Floral Print Dress Jumpsuit for Kids Girls Summer Casual Straps Wide Leg Pants Skirts Sundress.jpeg\n",
      "Content image loaded and processed\n",
      "Style image saved to uploads\\il_794xN.4867330355_cttp.jpg\n",
      "Style image loaded and processed\n"
     ]
    },
    {
     "name": "stderr",
     "output_type": "stream",
     "text": [
      "INFO:werkzeug:127.0.0.1 - - [18/May/2024 14:30:38] \"POST /apply-style HTTP/1.1\" 200 -\n"
     ]
    },
    {
     "name": "stdout",
     "output_type": "stream",
     "text": [
      "Style transfer applied\n",
      "Stylized image saved to static/results\\stylized_il_794xN.4867330355_cttp.jpg\n"
     ]
    },
    {
     "name": "stderr",
     "output_type": "stream",
     "text": [
      "INFO:werkzeug:127.0.0.1 - - [18/May/2024 14:30:40] \"GET /result?image=%2Fstatic%2Fresults%2Fstylized_il_794xN.4867330355_cttp.jpg HTTP/1.1\" 200 -\n",
      "INFO:werkzeug:127.0.0.1 - - [18/May/2024 14:30:40] \"GET /static/results/stylized_il_794xN.4867330355_cttp.jpg HTTP/1.1\" 200 -\n",
      "INFO:werkzeug:127.0.0.1 - - [18/May/2024 14:34:21] \"GET / HTTP/1.1\" 200 -\n"
     ]
    },
    {
     "name": "stdout",
     "output_type": "stream",
     "text": [
      "Content image saved to uploads\\download.jfif\n",
      "Content image loaded and processed\n",
      "Style image saved to uploads\\il_794xN.4867330355_cttp.jpg\n",
      "Style image loaded and processed\n"
     ]
    },
    {
     "name": "stderr",
     "output_type": "stream",
     "text": [
      "INFO:werkzeug:127.0.0.1 - - [18/May/2024 14:37:46] \"POST /apply-style HTTP/1.1\" 200 -\n"
     ]
    },
    {
     "name": "stdout",
     "output_type": "stream",
     "text": [
      "Style transfer applied\n",
      "Stylized image saved to static/results\\stylized_il_794xN.4867330355_cttp.jpg\n"
     ]
    },
    {
     "name": "stderr",
     "output_type": "stream",
     "text": [
      "INFO:werkzeug:127.0.0.1 - - [18/May/2024 14:37:50] \"GET /result?image=%2Fstatic%2Fresults%2Fstylized_il_794xN.4867330355_cttp.jpg HTTP/1.1\" 200 -\n",
      "INFO:werkzeug:127.0.0.1 - - [18/May/2024 14:37:50] \"GET /static/results/stylized_il_794xN.4867330355_cttp.jpg HTTP/1.1\" 200 -\n",
      "INFO:werkzeug:127.0.0.1 - - [18/May/2024 14:41:42] \"GET / HTTP/1.1\" 200 -\n"
     ]
    },
    {
     "name": "stdout",
     "output_type": "stream",
     "text": [
      "Content image saved to uploads\\download.jfif\n",
      "Content image loaded and processed\n",
      "Style image saved to uploads\\il_794xN.4867330355_cttp.jpg\n",
      "Style image loaded and processed\n"
     ]
    },
    {
     "name": "stderr",
     "output_type": "stream",
     "text": [
      "INFO:werkzeug:127.0.0.1 - - [18/May/2024 14:45:56] \"POST /apply-style HTTP/1.1\" 200 -\n"
     ]
    },
    {
     "name": "stdout",
     "output_type": "stream",
     "text": [
      "Style transfer applied\n",
      "Stylized image saved to static/results\\stylized_il_794xN.4867330355_cttp.jpg\n"
     ]
    },
    {
     "name": "stderr",
     "output_type": "stream",
     "text": [
      "INFO:werkzeug:127.0.0.1 - - [18/May/2024 14:45:58] \"GET /result?image=%2Fstatic%2Fresults%2Fstylized_il_794xN.4867330355_cttp.jpg HTTP/1.1\" 200 -\n",
      "INFO:werkzeug:127.0.0.1 - - [18/May/2024 14:45:58] \"GET /static/results/stylized_il_794xN.4867330355_cttp.jpg HTTP/1.1\" 200 -\n",
      "INFO:werkzeug:127.0.0.1 - - [18/May/2024 14:51:48] \"GET / HTTP/1.1\" 200 -\n",
      "INFO:werkzeug:127.0.0.1 - - [18/May/2024 14:52:43] \"GET / HTTP/1.1\" 200 -\n"
     ]
    }
   ],
   "source": [
    "from flask import Flask, request, jsonify, render_template, url_for\n",
    "import os\n",
    "import tensorflow as tf\n",
    "from PIL import Image\n",
    "import numpy as np\n",
    "\n",
    "app = Flask(__name__)\n",
    "\n",
    "UPLOAD_FOLDER = 'uploads'\n",
    "RESULT_FOLDER = 'static/results'\n",
    "os.makedirs(UPLOAD_FOLDER, exist_ok=True)\n",
    "os.makedirs(RESULT_FOLDER, exist_ok=True)\n",
    "\n",
    "# Load the custom TensorFlow model\n",
    "model_path = \"archive\"  # Ensure this is the correct path\n",
    "model = tf.saved_model.load(model_path)\n",
    "print(f\"Model loaded from {model_path}\")\n",
    "\n",
    "def load_image(image_path):\n",
    "    img = Image.open(image_path)\n",
    "    img = img.convert('RGB')\n",
    "    img = img.resize((256, 256))\n",
    "    img = np.array(img) / 255.0\n",
    "    img = np.expand_dims(img, axis=0)\n",
    "    return img\n",
    "\n",
    "def save_image(image_tensor, output_path):\n",
    "    img = image_tensor[0].numpy()\n",
    "    img = (img * 255).astype(np.uint8)\n",
    "    img = Image.fromarray(img)\n",
    "    img.save(output_path)\n",
    "\n",
    "@app.route('/')\n",
    "def index():\n",
    "    return render_template('index.html')\n",
    "\n",
    "@app.route('/result')\n",
    "def result():\n",
    "    generated_image = request.args.get('image')\n",
    "    return render_template('result.html', generated_image=generated_image)\n",
    "\n",
    "@app.route('/apply-style', methods=['POST'])\n",
    "def apply_style():\n",
    "    try:\n",
    "        gender = request.form.get('gender')\n",
    "        content_image = request.files.get('content_image')\n",
    "        style_images = request.files.getlist('style_image')\n",
    "        style_options = request.form.getlist('style_options[]')\n",
    "\n",
    "        if not content_image or not style_images or not gender or not style_options:\n",
    "            return jsonify({'success': False, 'message': 'Missing required fields'})\n",
    "\n",
    "        # Save the content image\n",
    "        content_image_path = os.path.join(UPLOAD_FOLDER, content_image.filename)\n",
    "        content_image.save(content_image_path)\n",
    "        print(f\"Content image saved to {content_image_path}\")\n",
    "\n",
    "        # Load the content image\n",
    "        content_image_tensor = load_image(content_image_path)\n",
    "        print(f\"Content image loaded and processed\")\n",
    "\n",
    "        # Process each style image and apply the style to the content image\n",
    "        for style_image in style_images:\n",
    "            style_image_path = os.path.join(UPLOAD_FOLDER, style_image.filename)\n",
    "            style_image.save(style_image_path)\n",
    "            print(f\"Style image saved to {style_image_path}\")\n",
    "\n",
    "            style_image_tensor = load_image(style_image_path)\n",
    "            print(f\"Style image loaded and processed\")\n",
    "\n",
    "            # Convert tensors to float32 before applying the style transfer\n",
    "            content_image_tensor = tf.cast(content_image_tensor, tf.float32)\n",
    "            style_image_tensor = tf.cast(style_image_tensor, tf.float32)\n",
    "\n",
    "            # Apply the style transfer\n",
    "            stylized_image_tensor = model(tf.constant(content_image_tensor), tf.constant(style_image_tensor))[0]\n",
    "            print(f\"Style transfer applied\")\n",
    "\n",
    "            # Save the stylized image\n",
    "            result_image_path = os.path.join(RESULT_FOLDER, f'stylized_{style_image.filename}')\n",
    "            save_image(stylized_image_tensor, result_image_path)\n",
    "            print(f\"Stylized image saved to {result_image_path}\")\n",
    "\n",
    "        # Return the result\n",
    "        result_image_url = url_for('static', filename=f'results/stylized_{style_images[0].filename}')\n",
    "        return jsonify({'success': True, 'image': result_image_url})\n",
    "    except Exception as e:\n",
    "        print(f\"Error: {e}\")\n",
    "        return jsonify({'success': False, 'message': str(e)})\n",
    "\n",
    "if __name__ == '__main__':\n",
    "    app.run(debug=True, use_reloader=False)\n"
   ]
  },
  {
   "cell_type": "code",
   "execution_count": null,
   "id": "f77632a0",
   "metadata": {},
   "outputs": [],
   "source": []
  }
 ],
 "metadata": {
  "kernelspec": {
   "display_name": "Python 3 (ipykernel)",
   "language": "python",
   "name": "python3"
  },
  "language_info": {
   "codemirror_mode": {
    "name": "ipython",
    "version": 3
   },
   "file_extension": ".py",
   "mimetype": "text/x-python",
   "name": "python",
   "nbconvert_exporter": "python",
   "pygments_lexer": "ipython3",
   "version": "3.11.5"
  }
 },
 "nbformat": 4,
 "nbformat_minor": 5
}
